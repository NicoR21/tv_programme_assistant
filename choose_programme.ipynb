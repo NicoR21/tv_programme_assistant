{
 "cells": [
  {
   "cell_type": "markdown",
   "metadata": {},
   "source": [
    "# What's on TV Tonight ?"
   ]
  },
  {
   "cell_type": "markdown",
   "metadata": {},
   "source": [
    "This notebook groups every steps of the project :\n",
    "- web scraping the french tv programme and get all the desired informations\n",
    "    - channel number & channel name\n",
    "    - programme name / title\n",
    "    - beginning & duration time\n",
    "    - rate /5 given by \"TéléLoisirs\"\n",
    "    - synopsis of the programme\n",
    "    - year of release\n",
    "    \n",
    "    \n",
    "- display programmes by type (the user chooses the type of programme he wants to see), and sorted by rate for movies \n",
    "\n",
    "\n",
    "The code also works with what is on TV right now (\"En ce moment\" table on the main web page) and  for different TV guide (Orange, SFR, Bouygues etc.)"
   ]
  },
  {
   "cell_type": "markdown",
   "metadata": {},
   "source": [
    "## Libraries"
   ]
  },
  {
   "cell_type": "code",
   "execution_count": 1,
   "metadata": {
    "pycharm": {
     "name": "#%%\n"
    }
   },
   "outputs": [],
   "source": [
    "import pandas as pd\n",
    "import requests\n",
    "from bs4 import BeautifulSoup "
   ]
  },
  {
   "cell_type": "markdown",
   "metadata": {},
   "source": [
    "## URL links & Constants"
   ]
  },
  {
   "cell_type": "code",
   "execution_count": 2,
   "metadata": {},
   "outputs": [],
   "source": [
    "URL_TNT = \"https://www.programme-tv.net/\"\n",
    "URL_CANAL = \"https://www.programme-tv.net/programme/canal-plus/\"\n",
    "URL_NOW = \"https://www.programme-tv.net/programme/en-ce-moment.html\"\n",
    "URL_TOMORROW = \"https://www.programme-tv.net/programme/toutes-les-chaines/2020-12-23/\" #change everyday\n",
    "\n",
    "CHANNEL_NAME = \"channel_name\"\n",
    "CHANNEL_NUMBER = \"channel_number\"\n",
    "BEGINNING_HOUR = \"beginning_hour\"\n",
    "PROGRAMME_TITLE = \"programme_title\"\n",
    "PROGRAMME_TYPE = \"programme_type\" \n",
    "PROGRAMME_DURATION = \"programme_duration\"\n",
    "SYNOPSIS = \"synopsis\"\n",
    "RATE = \"rate /5\""
   ]
  },
  {
   "cell_type": "markdown",
   "metadata": {},
   "source": [
    "## Data retrieval"
   ]
  },
  {
   "cell_type": "markdown",
   "metadata": {
    "pycharm": {
     "name": "#%% md\n"
    }
   },
   "source": [
    "###### Get data for TNT (Télévision Numérique Terrestre) "
   ]
  },
  {
   "cell_type": "code",
   "execution_count": 3,
   "metadata": {},
   "outputs": [],
   "source": [
    "def loader_tnt(url_link: str) -> pd.DataFrame:\n",
    "    \n",
    "    # Set up scraping tool\n",
    "    url_basic = url_link\n",
    "    response_basic = requests.get(url_basic)\n",
    "    soup = BeautifulSoup(response_basic.text, 'html.parser')\n",
    "    info_box = soup.find_all(\"div\", class_=\"homeGrid-cards\")\n",
    "    tv_programme = []\n",
    "    \n",
    "    for i in range(len(info_box)):\n",
    "        # Get first useful informations on the main page\n",
    "        channel_name = info_box[i].find(\"div\", class_=\"homeGrid-cardsChannelItem\").a[\"title\"]\n",
    "        channel_number = getattr(info_box[i].find(\"div\", class_=\"homeGrid-cardsChannelNumber\"), 'text', None)\n",
    "        beginning_hour = getattr(info_box[i].find(\"div\", class_=\"mainBroadcastCard-startingHour\"), 'text'\n",
    "                                 , None).replace(\"\\n\", \" \").strip()\n",
    "        programme_title = info_box[i].find(\"div\", class_=\"mainBroadcastCard-title\").a[\"title\"]\n",
    "        programme_type = getattr(info_box[i].find(\"div\", class_=\"mainBroadcastCard-format\"), 'text'\n",
    "                                 , None).replace(\"\\n\", \" \").strip()\n",
    "        prgrm_duration = getattr(info_box[i].find(\"span\", class_=\"mainBroadcastCard-durationContent\"), 'text'\n",
    "                                 , None).replace(\"\\n\", \" \").strip()\n",
    "        url_link = info_box[i].find(\"div\", class_=\"mainBroadcastCard-title\").a[\"href\"]\n",
    "\n",
    "\n",
    "        # ReDo requests.get() to go through the link of the program to get new infos (synopsis / opinion) ...\n",
    "        url_synopsis = url_link\n",
    "        response_url_synopsis = requests.get(url_synopsis)\n",
    "        soup_synopsis = BeautifulSoup(response_url_synopsis.text, 'html.parser')\n",
    "        \n",
    "        # ... based on different program type (movies, film, series) because the html structure is different\n",
    "        movies_box = soup_synopsis.find_all(\"div\", class_=\"programHome-mainContent\")\n",
    "        serie_sport_box = soup_synopsis.find_all(\"div\", class_=\"programCollectionEpisode-mainContent\")\n",
    "        \n",
    "        # Create 3 variables of synopsis_type : it fills when condition is met and stays blank if not \n",
    "        # Get synopsis of film OR summary (mostly for sports, culture program, series & others)\n",
    "        try:\n",
    "            synopsis_film = (movies_box[0].find(\"div\", class_=\"synopsis-text defaultStyleContentTags\")\n",
    "                            ).text.strip()\n",
    "        except:\n",
    "            synopsis_film = \" \"\n",
    "    \n",
    "        try:\n",
    "            sport_details = (serie_sport_box[0].find(\"div\", class_=\"synopsis-text defaultStyleContentTags\")\n",
    "                            ).text.strip()\n",
    "        except:\n",
    "            sport_details = \" \"\n",
    "        \n",
    "        try:\n",
    "            opinion = getattr(movies_box[0].find(\"div\", class_=\"review-loveText\"), 'text', str(None))\n",
    "        except:\n",
    "            opinion = \"None\"\n",
    "        \n",
    "        try:\n",
    "            genre = getattr(movies_box[0].find(\"div\", class_=\"overview-overviewSubtitle\"), 'text', str(None))\n",
    "            find_integer = str(\" (\") + str([int(s) for s in genre.split() if s.isdigit()][0]) + str(\")\")\n",
    "        except:\n",
    "            find_integer = \" \"\n",
    "\n",
    "        info = [channel_name, programme_title, programme_type, channel_number, beginning_hour, prgrm_duration, \n",
    "                opinion, synopsis_film, sport_details, find_integer]\n",
    "        \n",
    "        tv_programme.append(info)\n",
    "\n",
    "    # Build a DataFrame from scraped data\n",
    "    tv_programme = pd.DataFrame(tv_programme, columns=[CHANNEL_NAME, PROGRAMME_TITLE, PROGRAMME_TYPE, \n",
    "                                                       CHANNEL_NUMBER, BEGINNING_HOUR, PROGRAMME_DURATION, \n",
    "                                                       RATE, \"synopsis_film\", \"sport_details\", \"year\"])\n",
    "    \n",
    "    # Group channel_name & channel_number together to use it as only one index column\n",
    "    tv_programme[\"channel_name\"] = (tv_programme[\"channel_name\"] + str(\" (\") + \n",
    "                                    tv_programme[\"channel_number\"] + str(\")\"))\n",
    "    \n",
    "    # Group all synopsis type (movies, sport, series) into one unique \"synopsis\" variable    \n",
    "    tv_programme[SYNOPSIS] = (tv_programme[\"synopsis_film\"] + tv_programme[\"sport_details\"])\n",
    "        \n",
    "    # Replace str(opinion) by an integer representing the rate / 5 of the programme ...\n",
    "    # couldn't scrape this variable on the site because the int is a <svg ...> (technical / knowledge issue)\n",
    "    # /!\\ 0 means NO RATE ; not that the porgramme is very very bad \n",
    "    tv_programme[RATE].replace({\"\\n                    À ne pas manquer\\n                \" : 5, \n",
    "                                \"\\n                    Très bon\\n                \"         : 4, \n",
    "                                \"\\n                    Bon\\n                \"              : 3, \n",
    "                                \"\\n                    Assez bon\\n                \"        : 2, \n",
    "                                \"\\n                    Décevant\\n                \"         : 1, \n",
    "                                \"None\": 0}, inplace=True)\n",
    "\n",
    "    # Concatenate Title & Year of release\n",
    "    tv_programme[PROGRAMME_TITLE] = tv_programme[PROGRAMME_TITLE] + tv_programme[\"year\"]\n",
    "    \n",
    "    # Drop intermediate columns    \n",
    "    tv_programme.drop(columns=[\"synopsis_film\", \"sport_details\", \"year\", \"channel_number\"], \n",
    "                      axis=1, inplace=True)\n",
    "    \n",
    "    return tv_programme"
   ]
  },
  {
   "cell_type": "code",
   "execution_count": 4,
   "metadata": {
    "scrolled": true
   },
   "outputs": [],
   "source": [
    "programme_tnt = loader_tnt(URL_TNT)\n",
    "# programme_tnt"
   ]
  },
  {
   "cell_type": "markdown",
   "metadata": {
    "pycharm": {
     "name": "#%% md\n"
    }
   },
   "source": [
    "###### Get data for \"Le bouquet de Canal\" (private channel - not necessary if you didn't subscribe) "
   ]
  },
  {
   "cell_type": "code",
   "execution_count": 5,
   "metadata": {},
   "outputs": [],
   "source": [
    "# Same function as loader_tnt with one additionnal command : lines 9-10 & 67-68\n",
    "def loader_canal(url_link: str) -> pd.DataFrame:\n",
    "    \n",
    "    url_basic = \"https://www.programme-tv.net/programme/canal-plus/\"\n",
    "    response_basic = requests.get(url_basic)\n",
    "    soup = BeautifulSoup(response_basic.text, 'html.parser')\n",
    "    # 2 find_all() because I can't reach the channel name thanks to the class_=\"bouquet-cards\" ... I don't \n",
    "    # understand why !\n",
    "    info_box_canal = soup.find_all(\"div\", class_=\"mainBroadcastCard first reverse\")\n",
    "    info_box_channel = soup.find_all(\"div\", class_=\"bouquet-cards\")\n",
    "    tv_programme = []\n",
    "    \n",
    "    for i in range(len(info_box_canal)):\n",
    "        channel_name = info_box_channel[i].find(\"div\", class_=\"bouquet-cardsChannelItem\").a[\"title\"]\n",
    "        channel_number = \"\"\n",
    "        beginning_hour = getattr(info_box_canal[i].find(\"div\", class_=\"mainBroadcastCard-startingHour\"), \n",
    "                                 'text', None).replace(\"\\n\", \" \").strip()\n",
    "        programme_title = info_box_canal[i].find(\"div\", class_=\"mainBroadcastCard-title\").a[\"title\"]\n",
    "        programme_type = getattr(info_box_canal[i].find(\"div\", class_=\"mainBroadcastCard-format\"), \n",
    "                                 'text', None).replace(\"\\n\", \" \").strip()\n",
    "        prgrm_duration = getattr(info_box_canal[i].find(\"span\", class_=\"mainBroadcastCard-durationContent\"), \n",
    "                                 'text', None).replace(\"\\n\", \" \").strip()\n",
    "        url_link = info_box_canal[i].find(\"div\", class_=\"mainBroadcastCard-title\").a[\"href\"]\n",
    "\n",
    "        url_synopsis = url_link\n",
    "        response_url_synopsis = requests.get(url_synopsis)\n",
    "        soup_synopsis = BeautifulSoup(response_url_synopsis.text, 'html.parser')\n",
    "        \n",
    "        movies_box = soup_synopsis.find_all(\"div\", class_=\"programHome-mainContent\")\n",
    "        serie_sport_box = soup_synopsis.find_all(\"div\", class_=\"programCollectionEpisode-mainContent\")\n",
    "        \n",
    "        try:\n",
    "            synopsis_film = (movies_box[0].find(\"div\", class_=\"synopsis-text defaultStyleContentTags\")\n",
    "                            ).text.strip()\n",
    "        except:\n",
    "            synopsis_film = \" \"\n",
    "    \n",
    "        try:\n",
    "            sport_details = (serie_sport_box[0].find(\"div\", class_=\"synopsis-text defaultStyleContentTags\")\n",
    "                            ).text.strip()\n",
    "        except:\n",
    "            sport_details = \" \"\n",
    "        \n",
    "        try:\n",
    "            opinion = getattr(movies_box[0].find(\"div\", class_=\"review-loveText\"), 'text', str(None))\n",
    "        except:\n",
    "            opinion = \"None\"\n",
    "        \n",
    "        try:\n",
    "            genre = getattr(movies_box[0].find(\"div\", class_=\"overview-overviewSubtitle\"), 'text', str(None))\n",
    "            find_integer = str(\" (\") + str([int(s) for s in genre.split() if s.isdigit()][0]) + str(\")\")\n",
    "        except:\n",
    "            find_integer = \" \"\n",
    "\n",
    "        info = [channel_name, programme_title, programme_type, channel_number, beginning_hour, prgrm_duration, \n",
    "                opinion, synopsis_film, sport_details, find_integer]\n",
    "        \n",
    "        tv_programme.append(info)\n",
    "\n",
    "    tv_programme = pd.DataFrame(tv_programme, columns=[CHANNEL_NAME, PROGRAMME_TITLE, PROGRAMME_TYPE, \n",
    "                                                       CHANNEL_NUMBER, BEGINNING_HOUR, PROGRAMME_DURATION, \n",
    "                                                       RATE, \"synopsis_film\", \"sport_details\", \"year\"])\n",
    "    \n",
    "    tv_programme[SYNOPSIS] = (tv_programme[\"synopsis_film\"] + tv_programme[\"sport_details\"])\n",
    "    \n",
    "    # channel_number is not given by the website for canal channels --> enter values by hand (for my version)\n",
    "    tv_programme[CHANNEL_NUMBER] = [\"Chaîne n°4\", \"Chaîne n°40\", \"Chaîne n°41\", \"Chaîne n°42\", \n",
    "                                    \"Chaîne n°43\", \"Chaîne n°44\"]\n",
    "    \n",
    "    tv_programme[\"channel_name\"] = (tv_programme[\"channel_name\"] + str(\" (\") + \n",
    "                                    tv_programme[\"channel_number\"] + str(\")\"))\n",
    "\n",
    "    tv_programme[RATE].replace({\"\\n                    À ne pas manquer\\n                \" : 5, \n",
    "                                \"\\n                    Très bon\\n                \"         : 4, \n",
    "                                \"\\n                    Bon\\n                \"              : 3, \n",
    "                                \"\\n                    Assez bon\\n                \"        : 2, \n",
    "                                \"\\n                    Décevant\\n                \"         : 1, \n",
    "                                \"None\": 0}, inplace=True)\n",
    "\n",
    "    tv_programme[PROGRAMME_TITLE] = tv_programme[PROGRAMME_TITLE] + tv_programme[\"year\"]\n",
    "    \n",
    "    tv_programme.drop(columns=[\"synopsis_film\", \"sport_details\", \"year\", \"channel_number\"], \n",
    "                      axis=1, inplace=True)\n",
    "        \n",
    "    return tv_programme"
   ]
  },
  {
   "cell_type": "code",
   "execution_count": 6,
   "metadata": {
    "scrolled": true
   },
   "outputs": [],
   "source": [
    "programme_canal = loader_canal(URL_CANAL)\n",
    "# programme_canal"
   ]
  },
  {
   "cell_type": "markdown",
   "metadata": {},
   "source": [
    "###### Concatenate the 2 dataframes (TNT + \"Le bouquet de Canal\")"
   ]
  },
  {
   "cell_type": "code",
   "execution_count": 7,
   "metadata": {},
   "outputs": [],
   "source": [
    "def concatenate_frames(df_tnt: pd.DataFrame, df_canal: pd.DataFrame) -> pd.DataFrame:\n",
    "    return pd.concat([df_tnt, df_canal]).drop_duplicates(subset =\"channel_name\")"
   ]
  },
  {
   "cell_type": "code",
   "execution_count": 8,
   "metadata": {
    "scrolled": true
   },
   "outputs": [],
   "source": [
    "programme_tv = concatenate_frames(programme_tnt, programme_canal)\n",
    "# programme_tv.head()"
   ]
  },
  {
   "cell_type": "markdown",
   "metadata": {
    "pycharm": {
     "name": "#%% md\n"
    }
   },
   "source": [
    "## Display best programmes by categorie"
   ]
  },
  {
   "cell_type": "markdown",
   "metadata": {
    "pycharm": {
     "name": "#%% md\n"
    }
   },
   "source": [
    "###### List of today's programme type ---> choose what you want to watch tonight "
   ]
  },
  {
   "cell_type": "code",
   "execution_count": 9,
   "metadata": {},
   "outputs": [
    {
     "data": {
      "text/plain": [
       "['Série TV', 'Culture Infos', 'Cinéma', 'Autre', 'Sport']"
      ]
     },
     "execution_count": 9,
     "metadata": {},
     "output_type": "execute_result"
    }
   ],
   "source": [
    "programme_type_of_the_day = programme_tv[PROGRAMME_TYPE].unique().tolist()\n",
    "programme_type_of_the_day"
   ]
  },
  {
   "cell_type": "markdown",
   "metadata": {
    "pycharm": {
     "name": "#%% md\n"
    }
   },
   "source": [
    "###### Select a dataframe (TNT, Le bouquet de Canal or both) and the programme type you want to watch"
   ]
  },
  {
   "cell_type": "code",
   "execution_count": 10,
   "metadata": {},
   "outputs": [],
   "source": [
    "def choose_programme_type(df: pd.DataFrame, programme_type: str) -> pd.DataFrame:    \n",
    "    pd.set_option(\"display.max_colwidth\", -1)\n",
    "    df_chosed = df.loc[df[PROGRAMME_TYPE] == programme_type]\n",
    "    df_chosed = df_chosed.drop(columns=[PROGRAMME_TYPE]).set_index(CHANNEL_NAME)\n",
    "    df_chosed = df_chosed.sort_values(by=RATE, ascending=False)#.head(3)\n",
    "    #df_chosed = df_chosed.drop(columns=RATE)\n",
    "    return df_chosed"
   ]
  },
  {
   "cell_type": "code",
   "execution_count": 11,
   "metadata": {
    "scrolled": false
   },
   "outputs": [
    {
     "data": {
      "text/html": [
       "<div>\n",
       "<style scoped>\n",
       "    .dataframe tbody tr th:only-of-type {\n",
       "        vertical-align: middle;\n",
       "    }\n",
       "\n",
       "    .dataframe tbody tr th {\n",
       "        vertical-align: top;\n",
       "    }\n",
       "\n",
       "    .dataframe thead th {\n",
       "        text-align: right;\n",
       "    }\n",
       "</style>\n",
       "<table border=\"1\" class=\"dataframe\">\n",
       "  <thead>\n",
       "    <tr style=\"text-align: right;\">\n",
       "      <th></th>\n",
       "      <th>programme_title</th>\n",
       "      <th>beginning_hour</th>\n",
       "      <th>programme_duration</th>\n",
       "      <th>rate /5</th>\n",
       "      <th>synopsis</th>\n",
       "    </tr>\n",
       "    <tr>\n",
       "      <th>channel_name</th>\n",
       "      <th></th>\n",
       "      <th></th>\n",
       "      <th></th>\n",
       "      <th></th>\n",
       "      <th></th>\n",
       "    </tr>\n",
       "  </thead>\n",
       "  <tbody>\n",
       "    <tr>\n",
       "      <td>TF1 Séries Films (Chaîne n°20)</td>\n",
       "      <td>4 mariages et un enterrement (1994)</td>\n",
       "      <td>21h00</td>\n",
       "      <td>2h10min</td>\n",
       "      <td>4</td>\n",
       "      <td>A Londres, Charles, 32 ans, est un célibataire endurci. Autour de lui, les mariages se multiplient et sa seule joie dans ces festivités est de retrouver son groupe d'amis. Parmi eux, il y a Scarlett, sa colocataire, Fiona, secrètement amoureuse de lui, Matthew et Gareth, un couple homosexuel, Tom, un aristocrate benêt, et David, son frère sourd-muet. Lors d'une noce, il fait la connaissance de Carrie, une Américaine libérée dont il s'éprend.</td>\n",
       "    </tr>\n",
       "    <tr>\n",
       "      <td>M6 (Chaîne n°6)</td>\n",
       "      <td>Insaisissables (2013)</td>\n",
       "      <td>21h05</td>\n",
       "      <td>2h05min</td>\n",
       "      <td>3</td>\n",
       "      <td>J. Daniel Atlas, Merritt McKinney, Henley Reeves et Jack Wilder, qui vivotent de leurs talents de prestidigitateurs, reçoivent chacun une carte de tarot qui leur donne rendez-vous au même endroit. Un plan mystérieux leur est dévoilé. Un an plus tard, en direct d'une scène de Las Vegas, ils effectuent un incroyable braquage dans une banque parisienne. Alma, d'Interpol, et Dylan, du FBI, sont chargés de l'enquête.</td>\n",
       "    </tr>\n",
       "    <tr>\n",
       "      <td>Chérie 25 (Chaîne n°25)</td>\n",
       "      <td>Contre-enquête (2006)</td>\n",
       "      <td>21h05</td>\n",
       "      <td>1h35min</td>\n",
       "      <td>3</td>\n",
       "      <td>L'inspecteur Richard Malinowski, de la brigade criminelle, est confronté chaque jour à des faits divers très sanglants. Lorsque sa fillette est violée et assassinée, son existence bascule. Les investigations aboutissent rapidement à l'arrestation d'un suspect, Daniel Eckmann. Depuis sa prison, ce dernier, qui clame son innocence, envoie une lettre à Malinowkski. Richard commence à douter de sa culpabilité.</td>\n",
       "    </tr>\n",
       "    <tr>\n",
       "      <td>Canal+ Décalé (Chaîne n°43)</td>\n",
       "      <td>L'art du mensonge (2019)</td>\n",
       "      <td>21h00</td>\n",
       "      <td>1h46min</td>\n",
       "      <td>3</td>\n",
       "      <td>A Londres, en 2009,  Estelle, veuve depuis un an, vient de s'inscrire sur un site de rencontres. C'est comme cela quelle se retrouve dans un restaurant en compagnie de Brian, septuagénaire et veuf comme elle, rencontré sur le site. Au cours du repas, Brian annonce à Estelle qu'il lui a menti : il s'appelle en fait Roy Courtnay. Estelle lui avoue alors qu'elle s'appelle Betty McLeish. Mais si Betty a caché qui elle était, et notamment la fortune dont elle est l'héritière, Roy dissimule sa véritable activité d'escroc sans scrupules.</td>\n",
       "    </tr>\n",
       "    <tr>\n",
       "      <td>Canal+ Family (Chaîne n°44)</td>\n",
       "      <td>Stan &amp; Ollie (2018)</td>\n",
       "      <td>20h53</td>\n",
       "      <td>1h35min</td>\n",
       "      <td>3</td>\n",
       "      <td>A l'été 1937, à Culver City, en Californie, Stan Laurel Et Oliver Hardy ne sont plus les grandes vedettes comiques qu'ils étaient à Hollywood, à l'époque où leurs films, aimés du public et des critiques, étaient doublés dans de nombreuses langues et connus à travers le monde. Les deux comédiens, toujours sous contrat avec le producteur Hal Roach, auprès duquel, Stan tente en vain d'obtenir une augmentation. Seize ans plus tard, Stan et Oliver arrivent à Newcastle, en Angleterre, pour travailler avec le producteur de spectacles Bernard Delfont.</td>\n",
       "    </tr>\n",
       "    <tr>\n",
       "      <td>France 3 (Chaîne n°3)</td>\n",
       "      <td>C'est beau la vie quand on y pense (2017)</td>\n",
       "      <td>21h05</td>\n",
       "      <td>1h31min</td>\n",
       "      <td>2</td>\n",
       "      <td>Ancien pilote de rallye dépressif et sans travail, Loïc veut à tout prix rencontrer celui à qui a été greffé le coeur de son fils, mort dans un accident de voiture. Grâce à un ami médecin, il trouve son adresse et s'y rend. Il fait alors la connaissance d'Hugo, un jeune casse-cou à la dérive qui vit seul dans l'appartement de sa grand-mère. Voulant fuir la police après un braquage raté, Hugo lui rend ensuite visite, en Bretagne et fait un malaise devant la porte. Loïc lui propose alors de rester. Ensemble, ils essayent de réparer l'ancienne voiture de course de Loïc.</td>\n",
       "    </tr>\n",
       "    <tr>\n",
       "      <td>TMC (Chaîne n°10)</td>\n",
       "      <td>Taxi 5 (2018)</td>\n",
       "      <td>21h15</td>\n",
       "      <td>1h55min</td>\n",
       "      <td>2</td>\n",
       "      <td>Sylvain Marot, policier parisien intrépide doublé d'un pilote émérite, a une façon bien à lui de faire parler les suspects. Mais son comportement hors du service lui cause des soucis : pour avoir approché de trop près la femme du préfet, Marot est immédiatement muté à Marseille. Le policier découvre avec effroi un commissariat qui ne répond pas à ses normes d'efficacité. Lors de sa première sortie en ville, il fait rapidement connaissance d'Eddy Maklouf, chauffeur de taxi qui se moque du code de la route.</td>\n",
       "    </tr>\n",
       "    <tr>\n",
       "      <td>Canal+ Cinéma (Chaîne n°40)</td>\n",
       "      <td>Le Champion (2019)</td>\n",
       "      <td>20h54</td>\n",
       "      <td>1h46min</td>\n",
       "      <td>0</td>\n",
       "      <td>Christian Ferro, jeune joueur de foot prometteur au caractère difficile, va devoir, pour être maintenu au sein de l’équipe, réussir sa scolarité et passer son bac. Pour cela, il va être aidé par un professeur particulier.</td>\n",
       "    </tr>\n",
       "  </tbody>\n",
       "</table>\n",
       "</div>"
      ],
      "text/plain": [
       "                                                          programme_title  \\\n",
       "channel_name                                                                \n",
       "TF1 Séries Films (Chaîne n°20)  4 mariages et un enterrement (1994)         \n",
       "M6 (Chaîne n°6)                 Insaisissables (2013)                       \n",
       "Chérie 25 (Chaîne n°25)         Contre-enquête (2006)                       \n",
       "Canal+ Décalé (Chaîne n°43)     L'art du mensonge (2019)                    \n",
       "Canal+ Family (Chaîne n°44)     Stan & Ollie (2018)                         \n",
       "France 3 (Chaîne n°3)           C'est beau la vie quand on y pense (2017)   \n",
       "TMC (Chaîne n°10)               Taxi 5 (2018)                               \n",
       "Canal+ Cinéma (Chaîne n°40)     Le Champion (2019)                          \n",
       "\n",
       "                               beginning_hour programme_duration  rate /5  \\\n",
       "channel_name                                                                \n",
       "TF1 Séries Films (Chaîne n°20)  21h00          2h10min            4         \n",
       "M6 (Chaîne n°6)                 21h05          2h05min            3         \n",
       "Chérie 25 (Chaîne n°25)         21h05          1h35min            3         \n",
       "Canal+ Décalé (Chaîne n°43)     21h00          1h46min            3         \n",
       "Canal+ Family (Chaîne n°44)     20h53          1h35min            3         \n",
       "France 3 (Chaîne n°3)           21h05          1h31min            2         \n",
       "TMC (Chaîne n°10)               21h15          1h55min            2         \n",
       "Canal+ Cinéma (Chaîne n°40)     20h54          1h46min            0         \n",
       "\n",
       "                                                                                                                                                                                                                                                                                                                                                                                                                                                                                                                                                                                                                      synopsis  \n",
       "channel_name                                                                                                                                                                                                                                                                                                                                                                                                                                                                                                                                                                                                                    \n",
       "TF1 Séries Films (Chaîne n°20)  A Londres, Charles, 32 ans, est un célibataire endurci. Autour de lui, les mariages se multiplient et sa seule joie dans ces festivités est de retrouver son groupe d'amis. Parmi eux, il y a Scarlett, sa colocataire, Fiona, secrètement amoureuse de lui, Matthew et Gareth, un couple homosexuel, Tom, un aristocrate benêt, et David, son frère sourd-muet. Lors d'une noce, il fait la connaissance de Carrie, une Américaine libérée dont il s'éprend.                                                                                                                                   \n",
       "M6 (Chaîne n°6)                 J. Daniel Atlas, Merritt McKinney, Henley Reeves et Jack Wilder, qui vivotent de leurs talents de prestidigitateurs, reçoivent chacun une carte de tarot qui leur donne rendez-vous au même endroit. Un plan mystérieux leur est dévoilé. Un an plus tard, en direct d'une scène de Las Vegas, ils effectuent un incroyable braquage dans une banque parisienne. Alma, d'Interpol, et Dylan, du FBI, sont chargés de l'enquête.                                                                                                                                                                 \n",
       "Chérie 25 (Chaîne n°25)         L'inspecteur Richard Malinowski, de la brigade criminelle, est confronté chaque jour à des faits divers très sanglants. Lorsque sa fillette est violée et assassinée, son existence bascule. Les investigations aboutissent rapidement à l'arrestation d'un suspect, Daniel Eckmann. Depuis sa prison, ce dernier, qui clame son innocence, envoie une lettre à Malinowkski. Richard commence à douter de sa culpabilité.                                                                                                                                                                       \n",
       "Canal+ Décalé (Chaîne n°43)     A Londres, en 2009,  Estelle, veuve depuis un an, vient de s'inscrire sur un site de rencontres. C'est comme cela quelle se retrouve dans un restaurant en compagnie de Brian, septuagénaire et veuf comme elle, rencontré sur le site. Au cours du repas, Brian annonce à Estelle qu'il lui a menti : il s'appelle en fait Roy Courtnay. Estelle lui avoue alors qu'elle s'appelle Betty McLeish. Mais si Betty a caché qui elle était, et notamment la fortune dont elle est l'héritière, Roy dissimule sa véritable activité d'escroc sans scrupules.                                        \n",
       "Canal+ Family (Chaîne n°44)     A l'été 1937, à Culver City, en Californie, Stan Laurel Et Oliver Hardy ne sont plus les grandes vedettes comiques qu'ils étaient à Hollywood, à l'époque où leurs films, aimés du public et des critiques, étaient doublés dans de nombreuses langues et connus à travers le monde. Les deux comédiens, toujours sous contrat avec le producteur Hal Roach, auprès duquel, Stan tente en vain d'obtenir une augmentation. Seize ans plus tard, Stan et Oliver arrivent à Newcastle, en Angleterre, pour travailler avec le producteur de spectacles Bernard Delfont.                           \n",
       "France 3 (Chaîne n°3)           Ancien pilote de rallye dépressif et sans travail, Loïc veut à tout prix rencontrer celui à qui a été greffé le coeur de son fils, mort dans un accident de voiture. Grâce à un ami médecin, il trouve son adresse et s'y rend. Il fait alors la connaissance d'Hugo, un jeune casse-cou à la dérive qui vit seul dans l'appartement de sa grand-mère. Voulant fuir la police après un braquage raté, Hugo lui rend ensuite visite, en Bretagne et fait un malaise devant la porte. Loïc lui propose alors de rester. Ensemble, ils essayent de réparer l'ancienne voiture de course de Loïc.   \n",
       "TMC (Chaîne n°10)               Sylvain Marot, policier parisien intrépide doublé d'un pilote émérite, a une façon bien à lui de faire parler les suspects. Mais son comportement hors du service lui cause des soucis : pour avoir approché de trop près la femme du préfet, Marot est immédiatement muté à Marseille. Le policier découvre avec effroi un commissariat qui ne répond pas à ses normes d'efficacité. Lors de sa première sortie en ville, il fait rapidement connaissance d'Eddy Maklouf, chauffeur de taxi qui se moque du code de la route.                                                                  \n",
       "Canal+ Cinéma (Chaîne n°40)     Christian Ferro, jeune joueur de foot prometteur au caractère difficile, va devoir, pour être maintenu au sein de l’équipe, réussir sa scolarité et passer son bac. Pour cela, il va être aidé par un professeur particulier.                                                                                                                                                                                                                                                                                                                                                                   "
      ]
     },
     "execution_count": 11,
     "metadata": {},
     "output_type": "execute_result"
    }
   ],
   "source": [
    "selected_type = choose_programme_type(programme_tv, \"Cinéma\")\n",
    "selected_type"
   ]
  },
  {
   "cell_type": "markdown",
   "metadata": {},
   "source": [
    "### Few ints for the webapp"
   ]
  },
  {
   "cell_type": "markdown",
   "metadata": {},
   "source": [
    "[Advanced callbacks](https://dash.plotly.com/advanced-callbacks)\n",
    "\n",
    "[Return a dataframe as a data_table from a callback](https://stackoverflow.com/questions/55269763/return-a-pandas-dataframe-as-a-data-table-from-a-callback-with-plotly-dash-for-p/55305812#55305812)\n",
    "\n",
    "[Return df with dash](https://dash.plotly.com/datatable/editable)"
   ]
  },
  {
   "cell_type": "code",
   "execution_count": 12,
   "metadata": {},
   "outputs": [],
   "source": [
    "choices = {\n",
    "    \"TONIGHT\": {\"TNT\": \"https://www.programme-tv.net/\", \"CANAL\": \"https://www.programme-tv.net/programme/canal-plus/\"},\n",
    "    \"NOW\"    : {\"TNT\":\"https://www.programme-tv.net/programme/en-ce-moment.html\", \"CANAL\": \"https://www.programme-tv.net/programme/canal-plus/en-ce-moment.html\"}\n",
    "}"
   ]
  },
  {
   "cell_type": "code",
   "execution_count": 13,
   "metadata": {},
   "outputs": [
    {
     "data": {
      "text/plain": [
       "dict_keys(['TONIGHT', 'NOW'])"
      ]
     },
     "execution_count": 13,
     "metadata": {},
     "output_type": "execute_result"
    }
   ],
   "source": [
    "choices.keys()"
   ]
  },
  {
   "cell_type": "code",
   "execution_count": 14,
   "metadata": {},
   "outputs": [
    {
     "data": {
      "text/plain": [
       "{'TNT': 'https://www.programme-tv.net/',\n",
       " 'CANAL': 'https://www.programme-tv.net/programme/canal-plus/'}"
      ]
     },
     "execution_count": 14,
     "metadata": {},
     "output_type": "execute_result"
    }
   ],
   "source": [
    "choices[\"TONIGHT\"]"
   ]
  },
  {
   "cell_type": "code",
   "execution_count": 15,
   "metadata": {},
   "outputs": [
    {
     "data": {
      "text/plain": [
       "'https://www.programme-tv.net/'"
      ]
     },
     "execution_count": 15,
     "metadata": {},
     "output_type": "execute_result"
    }
   ],
   "source": [
    "choices[\"TONIGHT\"][\"TNT\"]"
   ]
  },
  {
   "cell_type": "code",
   "execution_count": 16,
   "metadata": {},
   "outputs": [
    {
     "data": {
      "text/plain": [
       "'https://www.programme-tv.net/programme/canal-plus/'"
      ]
     },
     "execution_count": 16,
     "metadata": {},
     "output_type": "execute_result"
    }
   ],
   "source": [
    "choices[\"TONIGHT\"][\"CANAL\"]"
   ]
  },
  {
   "cell_type": "code",
   "execution_count": null,
   "metadata": {},
   "outputs": [],
   "source": []
  }
 ],
 "metadata": {
  "kernelspec": {
   "display_name": "Python 3",
   "language": "python",
   "name": "python3"
  },
  "language_info": {
   "codemirror_mode": {
    "name": "ipython",
    "version": 3
   },
   "file_extension": ".py",
   "mimetype": "text/x-python",
   "name": "python",
   "nbconvert_exporter": "python",
   "pygments_lexer": "ipython3",
   "version": "3.7.4"
  }
 },
 "nbformat": 4,
 "nbformat_minor": 1
}
