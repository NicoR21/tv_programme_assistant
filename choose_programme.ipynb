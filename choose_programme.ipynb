{
 "cells": [
  {
   "cell_type": "markdown",
   "metadata": {},
   "source": [
    "# What's on TV Tonight ?"
   ]
  },
  {
   "cell_type": "markdown",
   "metadata": {},
   "source": [
    "This notebook groups every steps of the project :\n",
    "- web scraping the french tv programme and get all the desired informations\n",
    "    - channel number & channel name\n",
    "    - programme name / title\n",
    "    - beginning & duration time\n",
    "    - rate /5 given by \"TéléLoisirs\"\n",
    "    - synopsis of the programme\n",
    "    - year of release\n",
    "    \n",
    "    \n",
    "- display programmes by type (the user chooses the type of programme he wants to see), and sorted by rate for movies \n",
    "\n",
    "\n",
    "The code also works with what is on TV right now (\"En ce moment\" table on the main web page) and  for different TV guide (Orange, SFR, Bouygues etc.)"
   ]
  },
  {
   "cell_type": "markdown",
   "metadata": {},
   "source": [
    "## Libraries"
   ]
  },
  {
   "cell_type": "code",
   "execution_count": 1,
   "metadata": {
    "pycharm": {
     "name": "#%%\n"
    }
   },
   "outputs": [],
   "source": [
    "import pandas as pd\n",
    "import requests\n",
    "from bs4 import BeautifulSoup "
   ]
  },
  {
   "cell_type": "markdown",
   "metadata": {},
   "source": [
    "## URL links & Constants"
   ]
  },
  {
   "cell_type": "code",
   "execution_count": 2,
   "metadata": {},
   "outputs": [],
   "source": [
    "URL_TNT = \"https://www.programme-tv.net/\"\n",
    "URL_CANAL = \"https://www.programme-tv.net/programme/canal-plus/\"\n",
    "URL_NOW = \"https://www.programme-tv.net/programme/en-ce-moment.html\"\n",
    "URL_TOMORROW = \"https://www.programme-tv.net/programme/toutes-les-chaines/2020-12-23/\" #change everyday\n",
    "\n",
    "CHANNEL_NAME = \"channel_name\"\n",
    "CHANNEL_NUMBER = \"channel_number\"\n",
    "BEGINNING_HOUR = \"beginning_hour\"\n",
    "PROGRAMME_TITLE = \"programme_title\"\n",
    "PROGRAMME_TYPE = \"programme_type\" \n",
    "PROGRAMME_DURATION = \"programme_duration\"\n",
    "SYNOPSIS = \"synopsis\"\n",
    "RATE = \"rate /5\""
   ]
  },
  {
   "cell_type": "markdown",
   "metadata": {},
   "source": [
    "## Data retrieval"
   ]
  },
  {
   "cell_type": "markdown",
   "metadata": {
    "pycharm": {
     "name": "#%% md\n"
    }
   },
   "source": [
    "###### Get data for TNT (Télévision Numérique Terrestre) "
   ]
  },
  {
   "cell_type": "code",
   "execution_count": 3,
   "metadata": {},
   "outputs": [],
   "source": [
    "def loader_tnt(url_link: str) -> pd.DataFrame:\n",
    "    \n",
    "    # Set up scraping tool\n",
    "    url_basic = url_link\n",
    "    response_basic = requests.get(url_basic)\n",
    "    soup = BeautifulSoup(response_basic.text, 'html.parser')\n",
    "    info_box = soup.find_all(\"div\", class_=\"doubleBroadcastCard\")\n",
    "    tv_programme = []\n",
    "    \n",
    "    for i in range(len(info_box)):\n",
    "        # Get first useful informations on the main page\n",
    "        channel_name    = info_box[i].find(\"a\", class_=\"doubleBroadcastCard-channelName\").text.strip()\n",
    "        channel_number  = getattr(info_box[i].find(\"div\", class_=\"doubleBroadcastCard-channelNumber\"), \n",
    "                                  'text', None)\n",
    "        beginning_hour  = info_box[i].find(\"div\", class_=\"doubleBroadcastCard-hour\").text.strip()\n",
    "        programme_title = info_box[i].find(\"a\", class_=\"doubleBroadcastCard-title\").text.strip()\n",
    "        programme_type  = info_box[i].find(\"div\", class_=\"doubleBroadcastCard-type\").text.strip()\n",
    "        prgrm_duration  = info_box[i].find(\"div\", class_=\"doubleBroadcastCard-durationContent\").text.strip()\n",
    "        url_link        = info_box[i].find(\"div\", class_=\"doubleBroadcastCard-infos\").a['href']\n",
    "\n",
    "        # ReDo requests.get() to go through the link of the program to get new infos (synopsis / opinion) ...\n",
    "        url_synopsis = url_link\n",
    "        response_url_synopsis = requests.get(url_synopsis)\n",
    "        soup_synopsis = BeautifulSoup(response_url_synopsis.text, 'html.parser')\n",
    "        \n",
    "        # ... based on different program type (movies, film, series) because the html structure is different\n",
    "        movies_box = soup_synopsis.find_all(\"div\", class_=\"programHome-mainContent\")\n",
    "        sport_box = soup_synopsis.find_all(\"div\", class_=\"matchDetails\")\n",
    "        serie_box = soup_synopsis.find_all(\"div\", class_=\"programCollectionEpisode-mainContent\")\n",
    "        header_box = soup_synopsis.find_all(\"section\", class_=\"programHome-overview\")\n",
    "        \n",
    "        # Create 3 variables of synopsis_type : it fills when condition is met and stays blank if not \n",
    "        # Get synopsis of film OR summary (mostly for sports, culture program, series & others)\n",
    "        try:\n",
    "            synopsis_film = (movies_box[0].find(\"div\", class_=\"synopsis-text defaultStyleContentTags\")\n",
    "                            ).text.strip()\n",
    "        except:\n",
    "            synopsis_film = \" \"\n",
    "            \n",
    "        # Sports synopsis\n",
    "        try:\n",
    "            sport_details = (sport_box[0].find(\"p\", class_=\"matchDetails-synopsis defaultStyleContentTags\")\n",
    "                            ).text.strip()\n",
    "        except:\n",
    "            sport_details = \" \"\n",
    "      \n",
    "        # Series synopsis \n",
    "        try:\n",
    "            synopsis_serie = (serie_box[0].find(\"div\", class_=\"synopsis-text defaultStyleContentTags\")\n",
    "                             ).text.strip()\n",
    "        except:\n",
    "            synopsis_serie = \" \"    \n",
    "        \n",
    "        # Get str(opinion) of \"TéléLoisirs\"\n",
    "        try:\n",
    "            opinion = getattr(movies_box[0].find(\"div\", class_=\"review-loveText\"), 'text', str(None))\n",
    "        except:\n",
    "            opinion = \"None\"\n",
    "            # I put \"None\" that will be replace further because it may arrived that a movie has no rate -->\n",
    "            # ... so I won't be able to sort by \"RATE\" if I have an empty str()\n",
    "            \n",
    "        # Get year of release\n",
    "        try:\n",
    "            genre = getattr(header_box[0].find(\"div\", class_=\"overview-overviewSubtitle\"), 'text', str(None))\n",
    "            find_integer = str(\" (\") + str([int(s) for s in genre.split() if s.isdigit()][0]) + str(\")\")\n",
    "            # print () to surround the year of release \n",
    "            # [0] to get only the digit without [] --> 2020 instead of [2020]\n",
    "        except:\n",
    "            find_integer = \" \"\n",
    "\n",
    "        info = [channel_name, programme_title, programme_type, channel_number, beginning_hour, prgrm_duration, \n",
    "                opinion, synopsis_film, sport_details, synopsis_serie, find_integer]\n",
    "        \n",
    "        tv_programme.append(info)\n",
    "       \n",
    "    # Build a DataFrame from scraped data\n",
    "    tv_programme = pd.DataFrame(tv_programme, columns=[CHANNEL_NAME, PROGRAMME_TITLE, PROGRAMME_TYPE, \n",
    "                                                       CHANNEL_NUMBER, BEGINNING_HOUR, PROGRAMME_DURATION, \n",
    "                                                       RATE, \"synopsis_film\", \"sport_details\", \n",
    "                                                       \"synopsis_serie\", \"year\"])\n",
    "    \n",
    "    # Group all synopsis type (movies, sport, series) into one unique \"synopsis\" variable    \n",
    "    tv_programme[SYNOPSIS] = (tv_programme[\"synopsis_film\"] + tv_programme[\"sport_details\"] \n",
    "                              + tv_programme[\"synopsis_serie\"])\n",
    "        \n",
    "    # Replace str(opinion) by an integer representing the rate / 5 of the programme ...\n",
    "    # couldn't scrape this variable on the site because the int is a <svg ...> (technical / knowledge issue)\n",
    "    # /!\\ 0 means NO RATE ; not that the porgramme is very very bad \n",
    "    tv_programme[RATE].replace({\"\\n                    À ne pas manquer\\n                \" : 5, \n",
    "                                \"\\n                    Très bon\\n                \"         : 4, \n",
    "                                \"\\n                    Bon\\n                \"              : 3, \n",
    "                                \"\\n                    Assez bon\\n                \"        : 2, \n",
    "                                \"\\n                    Décevant\\n                \"         : 1, \n",
    "                                \"None\": 0}, inplace=True)\n",
    "\n",
    "    # Concatenate Title & Year of release\n",
    "    tv_programme[PROGRAMME_TITLE] = tv_programme[PROGRAMME_TITLE] + tv_programme[\"year\"]\n",
    "    \n",
    "    # Drop intermediate columns    \n",
    "    tv_programme.drop(columns=[\"synopsis_film\", \"sport_details\", \"synopsis_serie\", \"year\"], axis=1, \n",
    "                      inplace=True)\n",
    "    return tv_programme"
   ]
  },
  {
   "cell_type": "code",
   "execution_count": 4,
   "metadata": {
    "scrolled": true
   },
   "outputs": [],
   "source": [
    "programme_tnt = loader_tnt(URL_TNT)\n",
    "# programme_tnt"
   ]
  },
  {
   "cell_type": "markdown",
   "metadata": {
    "pycharm": {
     "name": "#%% md\n"
    }
   },
   "source": [
    "###### Get data for \"Le bouquet de Canal\" (private channel - not necessary if you didn't subscribe) "
   ]
  },
  {
   "cell_type": "code",
   "execution_count": 5,
   "metadata": {},
   "outputs": [],
   "source": [
    "# Same function as loader_tnt with one additionnal command : lines 63-65\n",
    "def loader_canal(url_link: str) -> pd.DataFrame:\n",
    "    \n",
    "    url_basic = url_link\n",
    "    response_basic = requests.get(url_basic)\n",
    "    soup = BeautifulSoup(response_basic.text, 'html.parser')\n",
    "    info_box = soup.find_all(\"div\", class_=\"doubleBroadcastCard\")\n",
    "    tv_programme = []\n",
    "    \n",
    "    for i in range(len(info_box)):\n",
    "        channel_name    = info_box[i].find(\"a\", class_=\"doubleBroadcastCard-channelName\").text.strip()\n",
    "        channel_number  = \"\"\n",
    "        beginning_hour  = info_box[i].find(\"div\", class_=\"doubleBroadcastCard-hour\").text.strip()\n",
    "        programme_title = info_box[i].find(\"a\", class_=\"doubleBroadcastCard-title\").text.strip()\n",
    "        programme_type  = info_box[i].find(\"div\", class_=\"doubleBroadcastCard-type\").text.strip()\n",
    "        prgrm_duration  = info_box[i].find(\"div\", class_=\"doubleBroadcastCard-durationContent\").text.strip()\n",
    "        url_link        = info_box[i].find(\"div\", class_=\"doubleBroadcastCard-infos\").a['href']\n",
    "        \n",
    "        url_synopsis = url_link\n",
    "        response_url_synopsis = requests.get(url_synopsis)\n",
    "        soup_synopsis = BeautifulSoup(response_url_synopsis.text, 'html.parser')\n",
    "        \n",
    "        movies_box = soup_synopsis.find_all(\"div\", class_=\"programHome-mainContent\")\n",
    "        sport_box = soup_synopsis.find_all(\"div\", class_=\"matchDetails\")\n",
    "        serie_box = soup_synopsis.find_all(\"div\", class_=\"programCollectionEpisode-mainContent\")\n",
    "        header_box = soup_synopsis.find_all(\"section\", class_=\"programHome-overview\")\n",
    "        \n",
    "        try:\n",
    "            synopsis_film = (movies_box[0].find(\"div\", class_=\"synopsis-text defaultStyleContentTags\")\n",
    "                            ).text.strip()\n",
    "        except IndexError:\n",
    "            synopsis_film = \" \"\n",
    "            \n",
    "        try:\n",
    "            sport_details = (sport_box[0].find(\"p\", class_=\"matchDetails-synopsis defaultStyleContentTags\")\n",
    "                            ).text.strip()\n",
    "        except IndexError:\n",
    "            sport_details = \" \"\n",
    "      \n",
    "        try:\n",
    "            synopsis_serie = (serie_box[0].find(\"div\", class_=\"synopsis-text defaultStyleContentTags\")\n",
    "                             ).text.strip()\n",
    "        except IndexError:\n",
    "            synopsis_serie = \" \"    \n",
    "        \n",
    "        try:\n",
    "            opinion = getattr(movies_box[0].find(\"div\", class_=\"review-loveText\"), 'text', str(None))\n",
    "        except IndexError:\n",
    "            opinion = \"None\"\n",
    "        \n",
    "        try:\n",
    "            genre = getattr(header_box[0].find(\"div\", class_=\"overview-overviewSubtitle\"), 'text', str(None))\n",
    "            find_integer = str(\" (\") + str([int(s) for s in genre.split() if s.isdigit()][0]) + str(\")\")\n",
    "        except IndexError:\n",
    "            find_integer = \" \"\n",
    "\n",
    "        info = [channel_name, programme_title, programme_type, channel_number, beginning_hour, prgrm_duration, \n",
    "                opinion, synopsis_film, sport_details, synopsis_serie, find_integer]\n",
    "        \n",
    "        tv_programme.append(info)\n",
    "       \n",
    "    tv_programme = pd.DataFrame(tv_programme, columns=[CHANNEL_NAME, PROGRAMME_TITLE, PROGRAMME_TYPE, \n",
    "                                                       CHANNEL_NUMBER, BEGINNING_HOUR, PROGRAMME_DURATION, \n",
    "                                                       RATE, \"synopsis_film\", \"sport_details\", \n",
    "                                                       \"synopsis_serie\", \"year\"])\n",
    "    \n",
    "    tv_programme[SYNOPSIS] = (tv_programme[\"synopsis_film\"] + tv_programme[\"sport_details\"] \n",
    "                              + tv_programme[\"synopsis_serie\"])\n",
    "    \n",
    "    # channel_number is not given by the website for canal channels --> enter values by hand (for my version)\n",
    "    tv_programme[CHANNEL_NUMBER] = [\"Chaîne n°4\", \"Chaîne n°40\", \"Chaîne n°41\", \"Chaîne n°42\", \n",
    "                                    \"Chaîne n°43\", \"Chaîne n°44\"]\n",
    "    \n",
    "    tv_programme[RATE].replace({\"\\n                    À ne pas manquer\\n                \" : 5, \n",
    "                                \"\\n                    Très bon\\n                \"         : 4, \n",
    "                                \"\\n                    Bon\\n                \"              : 3, \n",
    "                                \"\\n                    Assez bon\\n                \"        : 2, \n",
    "                                \"\\n                    Décevant\\n                \"         : 1, \n",
    "                                \"None\": 0}, inplace=True)\n",
    "\n",
    "    tv_programme[PROGRAMME_TITLE] = tv_programme[PROGRAMME_TITLE] + tv_programme[\"year\"]\n",
    "    \n",
    "    tv_programme.drop(columns=[\"synopsis_film\", \"sport_details\", \"synopsis_serie\", \"year\"], axis=1, \n",
    "                      inplace=True)\n",
    "        \n",
    "    return tv_programme"
   ]
  },
  {
   "cell_type": "code",
   "execution_count": 6,
   "metadata": {
    "scrolled": true
   },
   "outputs": [],
   "source": [
    "programme_canal = loader_canal(URL_CANAL)\n",
    "# programme_canal"
   ]
  },
  {
   "cell_type": "markdown",
   "metadata": {},
   "source": [
    "###### Concatenate the 2 dataframes (TNT + \"Le bouquet de Canal\")"
   ]
  },
  {
   "cell_type": "code",
   "execution_count": 7,
   "metadata": {},
   "outputs": [],
   "source": [
    "def concatenate_frames(df_tnt: pd.DataFrame, df_canal: pd.DataFrame) -> pd.DataFrame:\n",
    "    return pd.concat([df_tnt, df_canal]).drop_duplicates(subset =\"channel_name\")"
   ]
  },
  {
   "cell_type": "code",
   "execution_count": 8,
   "metadata": {
    "scrolled": false
   },
   "outputs": [],
   "source": [
    "programme_tv = concatenate_frames(programme_tnt, programme_canal)\n",
    "# programme_tv.head()"
   ]
  },
  {
   "cell_type": "markdown",
   "metadata": {
    "pycharm": {
     "name": "#%% md\n"
    }
   },
   "source": [
    "## Display best programmes by categorie"
   ]
  },
  {
   "cell_type": "markdown",
   "metadata": {
    "pycharm": {
     "name": "#%% md\n"
    }
   },
   "source": [
    "###### List of today's programme type ---> choose what you want to watch tonight "
   ]
  },
  {
   "cell_type": "code",
   "execution_count": 9,
   "metadata": {},
   "outputs": [
    {
     "data": {
      "text/plain": [
       "['Autre', 'Téléfilm', 'Sport', 'Culture Infos', 'Série TV', 'Cinéma']"
      ]
     },
     "execution_count": 9,
     "metadata": {},
     "output_type": "execute_result"
    }
   ],
   "source": [
    "programme_type_of_the_day = programme_tv[PROGRAMME_TYPE].unique().tolist()\n",
    "programme_type_of_the_day"
   ]
  },
  {
   "cell_type": "markdown",
   "metadata": {
    "pycharm": {
     "name": "#%% md\n"
    }
   },
   "source": [
    "###### Select a dataframe (TNT, Le bouquet de Canal or both) and the programme type you want to watch"
   ]
  },
  {
   "cell_type": "code",
   "execution_count": 10,
   "metadata": {},
   "outputs": [],
   "source": [
    "def choose_programme_type(df: pd.DataFrame, programme_type: str) -> pd.DataFrame:    \n",
    "    pd.set_option(\"display.max_colwidth\", -1)\n",
    "    df_chosed = df.loc[df[PROGRAMME_TYPE] == programme_type]\n",
    "    df_chosed = df_chosed.drop(columns=[PROGRAMME_TYPE]).set_index([CHANNEL_NAME, CHANNEL_NUMBER])\n",
    "    return df_chosed.sort_values(by=RATE, ascending=False)#.head(3)"
   ]
  },
  {
   "cell_type": "code",
   "execution_count": 11,
   "metadata": {
    "scrolled": false
   },
   "outputs": [
    {
     "data": {
      "text/html": [
       "<div>\n",
       "<style scoped>\n",
       "    .dataframe tbody tr th:only-of-type {\n",
       "        vertical-align: middle;\n",
       "    }\n",
       "\n",
       "    .dataframe tbody tr th {\n",
       "        vertical-align: top;\n",
       "    }\n",
       "\n",
       "    .dataframe thead th {\n",
       "        text-align: right;\n",
       "    }\n",
       "</style>\n",
       "<table border=\"1\" class=\"dataframe\">\n",
       "  <thead>\n",
       "    <tr style=\"text-align: right;\">\n",
       "      <th></th>\n",
       "      <th></th>\n",
       "      <th>programme_title</th>\n",
       "      <th>beginning_hour</th>\n",
       "      <th>programme_duration</th>\n",
       "      <th>rate /5</th>\n",
       "      <th>synopsis</th>\n",
       "    </tr>\n",
       "    <tr>\n",
       "      <th>channel_name</th>\n",
       "      <th>channel_number</th>\n",
       "      <th></th>\n",
       "      <th></th>\n",
       "      <th></th>\n",
       "      <th></th>\n",
       "      <th></th>\n",
       "    </tr>\n",
       "  </thead>\n",
       "  <tbody>\n",
       "    <tr>\n",
       "      <td>Canal+ Cinéma</td>\n",
       "      <td>Chaîne n°40</td>\n",
       "      <td>Seules les bêtes (2019)</td>\n",
       "      <td>20h52</td>\n",
       "      <td>1h53min</td>\n",
       "      <td>3</td>\n",
       "      <td>Dans les Causses, une femme disparaît durant une nuit neigeuse. Femme d'agriculteur, Alice aperçoit le véhicule un jour, en rentrant de chez Joseph, son amant. Les gendarmes ne parviennent pas à retrouver le corps de la disparue. Intriguée, Alice retourne chez Joseph. Ce dernier lui explique que quelqu'un a tué son chien et la repousse avec brusquerie. Dans le même temps, Michel, le mari d'Alice, passe beaucoup de temps sur internet, à converser avec une belle jeune femme. Il ne se doute pas qu'il s'agit en fait d'une arnaque orchestrée de Côte d'Ivoire.</td>\n",
       "    </tr>\n",
       "    <tr>\n",
       "      <td>Canal+ Family</td>\n",
       "      <td>Chaîne n°44</td>\n",
       "      <td>Hulk (2003)</td>\n",
       "      <td>20h52</td>\n",
       "      <td>2h13min</td>\n",
       "      <td>3</td>\n",
       "      <td>Alors qu'il effectue une expérience dans son laboratoire de San Francisco, le généticien Bruce Banner se retrouve exposé par inadvertance à une surdose de rayons gamma. Au grand soulagement de sa collaboratrice Betty Ross, Bruce en sort indemne. Mais peu après, il constate que quelque chose a changé en lui : à chaque émotion forte, il se transforme en un monstre incontrôlable, à la force surhumaine.</td>\n",
       "    </tr>\n",
       "  </tbody>\n",
       "</table>\n",
       "</div>"
      ],
      "text/plain": [
       "                                      programme_title beginning_hour  \\\n",
       "channel_name  channel_number                                           \n",
       "Canal+ Cinéma Chaîne n°40     Seules les bêtes (2019)  20h52           \n",
       "Canal+ Family Chaîne n°44     Hulk (2003)              20h52           \n",
       "\n",
       "                             programme_duration  rate /5  \\\n",
       "channel_name  channel_number                               \n",
       "Canal+ Cinéma Chaîne n°40     1h53min            3         \n",
       "Canal+ Family Chaîne n°44     2h13min            3         \n",
       "\n",
       "                                                                                                                                                                                                                                                                                                                                                                                                                                                                                                                                                                                                        synopsis  \n",
       "channel_name  channel_number                                                                                                                                                                                                                                                                                                                                                                                                                                                                                                                                                                                      \n",
       "Canal+ Cinéma Chaîne n°40     Dans les Causses, une femme disparaît durant une nuit neigeuse. Femme d'agriculteur, Alice aperçoit le véhicule un jour, en rentrant de chez Joseph, son amant. Les gendarmes ne parviennent pas à retrouver le corps de la disparue. Intriguée, Alice retourne chez Joseph. Ce dernier lui explique que quelqu'un a tué son chien et la repousse avec brusquerie. Dans le même temps, Michel, le mari d'Alice, passe beaucoup de temps sur internet, à converser avec une belle jeune femme. Il ne se doute pas qu'il s'agit en fait d'une arnaque orchestrée de Côte d'Ivoire.    \n",
       "Canal+ Family Chaîne n°44     Alors qu'il effectue une expérience dans son laboratoire de San Francisco, le généticien Bruce Banner se retrouve exposé par inadvertance à une surdose de rayons gamma. Au grand soulagement de sa collaboratrice Betty Ross, Bruce en sort indemne. Mais peu après, il constate que quelque chose a changé en lui : à chaque émotion forte, il se transforme en un monstre incontrôlable, à la force surhumaine.                                                                                                                                                                  "
      ]
     },
     "execution_count": 11,
     "metadata": {},
     "output_type": "execute_result"
    }
   ],
   "source": [
    "selected_type = choose_programme_type(programme_tv, \"Cinéma\")\n",
    "selected_type"
   ]
  },
  {
   "cell_type": "markdown",
   "metadata": {},
   "source": [
    "### Few ints for the webapp"
   ]
  },
  {
   "cell_type": "markdown",
   "metadata": {
    "pycharm": {
     "name": "#%% md\n"
    }
   },
   "source": [
    "[Advanced callbacks](https://dash.plotly.com/advanced-callbacks)\n",
    "\n",
    "[Return a dataframe as a data_table from a callback](https://stackoverflow.com/questions/55269763/return-a-pandas-dataframe-as-a-data-table-from-a-callback-with-plotly-dash-for-p/55305812#55305812)\n",
    "\n",
    "[Return df with dash](https://dash.plotly.com/datatable/editable)"
   ]
  },
  {
   "cell_type": "code",
   "execution_count": 17,
   "metadata": {},
   "outputs": [],
   "source": [
    "choices = {\n",
    "    \"tonight\":[\"https://www.programme-tv.net/\", \"https://www.programme-tv.net/programme/canal-plus/\"],\n",
    "    \"now\"    :[\"https://www.programme-tv.net/programme/en-ce-moment.html\", \n",
    "               \"https://www.programme-tv.net/programme/canal-plus/en-ce-moment.html\"]\n",
    "}"
   ]
  }
 ],
 "metadata": {
  "kernelspec": {
   "display_name": "Python 3",
   "language": "python",
   "name": "python3"
  },
  "language_info": {
   "codemirror_mode": {
    "name": "ipython",
    "version": 3
   },
   "file_extension": ".py",
   "mimetype": "text/x-python",
   "name": "python",
   "nbconvert_exporter": "python",
   "pygments_lexer": "ipython3",
   "version": "3.7.4"
  }
 },
 "nbformat": 4,
 "nbformat_minor": 1
}